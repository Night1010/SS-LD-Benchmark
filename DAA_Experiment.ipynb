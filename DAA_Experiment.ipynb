{
 "cells": [
  {
   "cell_type": "code",
   "execution_count": 103,
   "metadata": {},
   "outputs": [],
   "source": [
    "References = [\"https://www.geeksforgeeks.org/edit-distance-dp-5/\",\"https://www.geeksforgeeks.org/print-longest-common-substring/\",\"https://www.geeksforgeeks.org/longest-common-subsequence-dp-4/\"]"
   ]
  },
  {
   "cell_type": "code",
   "execution_count": 104,
   "metadata": {},
   "outputs": [],
   "source": [
    "import matplotlib.pyplot as plt\n",
    "import seaborn as sns\n",
    "import statistics"
   ]
  },
  {
   "cell_type": "code",
   "execution_count": 105,
   "metadata": {},
   "outputs": [],
   "source": [
    "#String similarity implementations based on pseudocode\n",
    "def StringSimilarityOptimized(S, T):\n",
    "    miu = 1\n",
    "    x = 0\n",
    "    if len(S) >= len(T):\n",
    "        strA = filterString(S)\n",
    "        strB = filterString(T)\n",
    "    else:\n",
    "        strA = filterString(T)\n",
    "        strB = filterString(S)\n",
    "    m = len(strB)\n",
    "    def SimilarDegreeByMe(strA, strB):\n",
    "        ld = LD(strA, strB)\n",
    "        lcs = LCS(strA, strB)\n",
    "        lccs = LCCS(strA, strB)\n",
    "        l = len(lccs)\n",
    "        p = strA.find(lccs) + 1\n",
    "        if ld == 0:\n",
    "            return 1\n",
    "        elif lcs == 0:\n",
    "            return 0\n",
    "        else:\n",
    "            return(lcs/(lcs+ld+p/(l*m)*miu))\n",
    "\n",
    "    x = SimilarDegreeByMe(strA, strB)\n",
    "    return x\n",
    "\n",
    "\n",
    "def filterString(string):\n",
    "    filtered_string = \"\"\n",
    "    for character in string:\n",
    "        if character.isalnum():\n",
    "            filtered_string += character\n",
    "\n",
    "    return(filtered_string)\n",
    "\n",
    "\n",
    "def LD(str1, str2):\n",
    "    len1 = len(str1)\n",
    "    len2 = len(str2)\n",
    "\n",
    "    DP = [[0 for i in range(len1 + 1)] \n",
    "             for j in range(2)]\n",
    "\n",
    "    for i in range(0, len1 + 1):\n",
    "        DP[0][i] = i\n",
    "  \n",
    "\n",
    "    for i in range(1, len2 + 1):\n",
    "          \n",
    "\n",
    "        for j in range(0, len1 + 1):\n",
    "  \n",
    "\n",
    "            if (j == 0):\n",
    "                DP[i % 2][j] = i\n",
    "  \n",
    "\n",
    "            elif(str1[j - 1] == str2[i-1]):\n",
    "                DP[i % 2][j] = DP[(i - 1) % 2][j - 1]\n",
    "              \n",
    "\n",
    "            else:\n",
    "                DP[i % 2][j] = (1 + min(DP[(i - 1) % 2][j], \n",
    "                                    min(DP[i % 2][j - 1], \n",
    "                                  DP[(i - 1) % 2][j - 1])))\n",
    "              \n",
    "    return DP[len2 % 2][len1]\n",
    "\n",
    "def LCS(X, Y):\n",
    "    m = len(X)\n",
    "    n = len(Y)\n",
    " \n",
    "\n",
    "    L = [[None]*(n+1) for i in range(m+1)]\n",
    " \n",
    "\n",
    "    for i in range(m+1):\n",
    "        for j in range(n+1):\n",
    "            if i == 0 or j == 0 :\n",
    "                L[i][j] = 0\n",
    "            elif X[i-1] == Y[j-1]:\n",
    "                L[i][j] = L[i-1][j-1]+1\n",
    "            else:\n",
    "                L[i][j] = max(L[i-1][j] , L[i][j-1])\n",
    " \n",
    "\n",
    "    return L[m][n]\n",
    "\n",
    "def LCCS(X,Y):\n",
    "\n",
    "    X += \"*\"\n",
    "    m = len(X)\n",
    "    n = len(Y)\n",
    "\n",
    "    \n",
    "    result = 0\n",
    "  \n",
    "    end = 0\n",
    "  \n",
    "    length = [[0 for j in range(m)]\n",
    "                 for i in range(2)]\n",
    "  \n",
    "    currRow = 0\n",
    "  \n",
    "    for i in range(0, m + 1):\n",
    "        for j in range(0, n + 1):\n",
    "            if (i == 0 or j == 0):\n",
    "                length[currRow][j] = 0\n",
    "             \n",
    "            elif (X[i - 1] == Y[j - 1]):\n",
    "                length[currRow][j] = length[1 - currRow][j - 1] + 1\n",
    "                 \n",
    "                if (length[currRow][j] > result):\n",
    "                    result = length[currRow][j]\n",
    "                    end = i - 1\n",
    "            else:\n",
    "                length[currRow][j] = 0\n",
    "\n",
    "        currRow = 1 - currRow\n",
    "\n",
    "    if (result == 0):\n",
    "        return \"-1\"\n",
    "  \n",
    "    string = X[end - result + 1 : end + 1]\n",
    "    return string\n"
   ]
  },
  {
   "cell_type": "code",
   "execution_count": 106,
   "metadata": {},
   "outputs": [],
   "source": [
    "#Levenshtein distance\n",
    "\n",
    "def levenshteinDistanceCalculation(S, T):\n",
    "    total = 0\n",
    "    x = LD(S,T)\n",
    "    total = 1-(x/max(len(S),len(T)))\n",
    "    return total\n",
    "\n",
    "\n",
    "\n",
    "def LD(str1, str2):\n",
    "        len1 = len(str1)\n",
    "        len2 = len(str2)\n",
    "\n",
    "        DP = [[0 for i in range(len1 + 1)] \n",
    "                for j in range(2)]\n",
    "\n",
    "        for i in range(0, len1 + 1):\n",
    "            DP[0][i] = i\n",
    "    \n",
    "\n",
    "        for i in range(1, len2 + 1):\n",
    "            \n",
    "\n",
    "            for j in range(0, len1 + 1):\n",
    "    \n",
    "\n",
    "                if (j == 0):\n",
    "                    DP[i % 2][j] = i\n",
    "    \n",
    "\n",
    "                elif(str1[j - 1] == str2[i-1]):\n",
    "                    DP[i % 2][j] = DP[(i - 1) % 2][j - 1]\n",
    "                \n",
    "\n",
    "                else:\n",
    "                    DP[i % 2][j] = (1 + min(DP[(i - 1) % 2][j], \n",
    "                                        min(DP[i % 2][j - 1], \n",
    "                                    DP[(i - 1) % 2][j - 1])))\n",
    "                \n",
    "        return DP[len2 % 2][len1]\n"
   ]
  },
  {
   "cell_type": "code",
   "execution_count": 107,
   "metadata": {},
   "outputs": [],
   "source": [
    "#data yang digunakan\n",
    "str1 = \"kalung\"\n",
    "str2 =  \"hijklm6789\"\n",
    "lstString1 = [\"gelang\",\"kangkung\",\"buntung\",\"kantong\",\"tinggi\",\"centang\",\"lantas\",\"sinting\"]\n",
    "lstString2 = [\"ab6efg723\", \"uilj12789\", \"h67edfg\", \"h675fgh\", \"lmno03149\", \"afgjkl01289\", \"khijklm6789\", \"hijklm67890\"]\n",
    "\n",
    "resultSS1 = []\n",
    "resultLD1 = []\n",
    "\n",
    "resultSS2 = []\n",
    "resultLD2 = []\n",
    "\n",
    "for word in lstString1:\n",
    "    resultSS1.append(StringSimilarityOptimized(str1,word))\n",
    "    resultLD1.append(levenshteinDistanceCalculation(str1,word))\n",
    "\n",
    "for word in lstString2:\n",
    "    resultSS2.append(StringSimilarityOptimized(str2,word))\n",
    "    resultLD2.append(levenshteinDistanceCalculation(str2,word))\n",
    "    "
   ]
  },
  {
   "cell_type": "code",
   "execution_count": 108,
   "metadata": {},
   "outputs": [
    {
     "name": "stdout",
     "output_type": "stream",
     "text": [
      "[0.4675324675324675, 0.6, 0.4122137404580153, 0.5647058823529412, 0.23762376237623764, 0.35294117647058826, 0.27272727272727276, 0.26666666666666666]\n",
      "[0.5, 0.625, 0.4285714285714286, 0.5714285714285714, 0.0, 0.2857142857142857, 0.16666666666666663, 0.2857142857142857]\n",
      "Standard Deviation of sample 1 string similarity is 0.13851904860992797\n",
      "Standard Deviation of sample 1 levenshtein distance is 0.21287416562454595\n"
     ]
    }
   ],
   "source": [
    "print(resultSS1)\n",
    "print(resultLD1)\n",
    "print(\"Standard Deviation of sample 1 string similarity is % s\" % (statistics.stdev(resultSS1)))\n",
    "print(\"Standard Deviation of sample 1 levenshtein distance is % s\" % (statistics.stdev(resultLD1)))"
   ]
  },
  {
   "cell_type": "code",
   "execution_count": 109,
   "metadata": {},
   "outputs": [
    {
     "data": {
      "image/png": "[encoded data removed]",
      "text/plain": [
       "<Figure size 432x288 with 1 Axes>"
      ]
     },
     "metadata": {},
     "output_type": "display_data"
    }
   ],
   "source": [
    "#for data set 1\n",
    "sns.set_style('darkgrid')\n",
    "x = [\"w1\",\"w2\",\"w3\",\"w4\",\"w5\",\"w6\",\"w7\",\"w8\"]\n",
    "plt.plot(x, resultSS1,marker='.')\n",
    "plt.plot(x, resultLD1,marker='.')\n",
    "plt.xlabel('Target String Set')\n",
    "plt.ylabel('Similarity')\n",
    "labels = x\n",
    "plt.legend([ 'String Similarity','Levenshtein Distance'])\n",
    "plt.xticks(x, labels)\n",
    "plt.savefig(\"Target String 1\")\n",
    "plt.show()"
   ]
  },
  {
   "cell_type": "code",
   "execution_count": 110,
   "metadata": {},
   "outputs": [
    {
     "data": {
      "image/png": "[encoded data removed]",
      "text/plain": [
       "<Figure size 432x288 with 1 Axes>"
      ]
     },
     "metadata": {},
     "output_type": "display_data"
    }
   ],
   "source": [
    "#for data set 2\n",
    "sns.set_style('darkgrid')\n",
    "x = [\"t1\",\"t2\",\"t3\",\"t4\",\"t5\",\"t6\",\"t7\",\"t8\"]\n",
    "plt.plot(x, resultSS2,marker='.')\n",
    "plt.plot(x, resultLD2,marker='.')\n",
    "plt.xlabel('Target String Set')\n",
    "plt.ylabel('Similarity')\n",
    "labels = x\n",
    "plt.legend([ 'String Similarity','Levenshtein Distance'])\n",
    "plt.xticks(x, labels)\n",
    "plt.savefig(\"Target String 2\")\n",
    "plt.show()"
   ]
  }
 ],
 "metadata": {
  "interpreter": {
   "hash": "2b23fcd62ae16e1bf6860ec23ff62b56699e039065deea2e95ab82d0ecadd645"
  },
  "kernelspec": {
   "display_name": "Python 3.9.7 64-bit",
   "language": "python",
   "name": "python3"
  },
  "language_info": {
   "codemirror_mode": {
    "name": "ipython",
    "version": 3
   },
   "file_extension": ".py",
   "mimetype": "text/x-python",
   "name": "python",
   "nbconvert_exporter": "python",
   "pygments_lexer": "ipython3",
   "version": "3.9.7"
  },
  "orig_nbformat": 4
 },
 "nbformat": 4,
 "nbformat_minor": 2
}
